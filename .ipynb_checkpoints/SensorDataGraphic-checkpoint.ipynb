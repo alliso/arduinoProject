{
 "cells": [
  {
   "cell_type": "code",
   "execution_count": 1,
   "metadata": {},
   "outputs": [],
   "source": [
    "import pandas as pd\n",
    "\n",
    "data = pd.read_csv(\"./2.9.2018_16.48.csv\")"
   ]
  },
  {
   "cell_type": "code",
   "execution_count": 2,
   "metadata": {},
   "outputs": [
    {
     "data": {
      "text/html": [
       "<div>\n",
       "<style scoped>\n",
       "    .dataframe tbody tr th:only-of-type {\n",
       "        vertical-align: middle;\n",
       "    }\n",
       "\n",
       "    .dataframe tbody tr th {\n",
       "        vertical-align: top;\n",
       "    }\n",
       "\n",
       "    .dataframe thead th {\n",
       "        text-align: right;\n",
       "    }\n",
       "</style>\n",
       "<table border=\"1\" class=\"dataframe\">\n",
       "  <thead>\n",
       "    <tr style=\"text-align: right;\">\n",
       "      <th></th>\n",
       "      <th>time</th>\n",
       "      <th>range</th>\n",
       "      <th>distance</th>\n",
       "      <th>ip</th>\n",
       "    </tr>\n",
       "  </thead>\n",
       "  <tbody>\n",
       "    <tr>\n",
       "      <th>0</th>\n",
       "      <td>95</td>\n",
       "      <td>0</td>\n",
       "      <td>86</td>\n",
       "      <td>192.168.43.34</td>\n",
       "    </tr>\n",
       "    <tr>\n",
       "      <th>1</th>\n",
       "      <td>100</td>\n",
       "      <td>0</td>\n",
       "      <td>107</td>\n",
       "      <td>192.168.43.38</td>\n",
       "    </tr>\n",
       "    <tr>\n",
       "      <th>2</th>\n",
       "      <td>181</td>\n",
       "      <td>0</td>\n",
       "      <td>86</td>\n",
       "      <td>192.168.43.34</td>\n",
       "    </tr>\n",
       "    <tr>\n",
       "      <th>3</th>\n",
       "      <td>186</td>\n",
       "      <td>0</td>\n",
       "      <td>101</td>\n",
       "      <td>192.168.43.38</td>\n",
       "    </tr>\n",
       "    <tr>\n",
       "      <th>4</th>\n",
       "      <td>267</td>\n",
       "      <td>0</td>\n",
       "      <td>83</td>\n",
       "      <td>192.168.43.34</td>\n",
       "    </tr>\n",
       "  </tbody>\n",
       "</table>\n",
       "</div>"
      ],
      "text/plain": [
       "   time  range  distance             ip\n",
       "0    95      0        86  192.168.43.34\n",
       "1   100      0       107  192.168.43.38\n",
       "2   181      0        86  192.168.43.34\n",
       "3   186      0       101  192.168.43.38\n",
       "4   267      0        83  192.168.43.34"
      ]
     },
     "execution_count": 2,
     "metadata": {},
     "output_type": "execute_result"
    }
   ],
   "source": [
    "data.head()"
   ]
  },
  {
   "cell_type": "code",
   "execution_count": 17,
   "metadata": {},
   "outputs": [
    {
     "data": {
      "text/plain": [
       "array(['0      192.168.43.34\\n1      192.168.43.38\\n2      192.168.43.34\\n3      192.168.43.38\\n4      192.168.43.34\\n5      192.168.43.38\\n6      192.168.43.34\\n7      192.168.43.38\\n8      192.168.43.34\\n9      192.168.43.38\\n10     192.168.43.34\\n11     192.168.43.38\\n12     192.168.43.34\\n13     192.168.43.38\\n14     192.168.43.34\\n15     192.168.43.38\\n16     192.168.43.34\\n17     192.168.43.38\\n18     192.168.43.34\\n19     192.168.43.38\\n20     192.168.43.34\\n21     192.168.43.38\\n22     192.168.43.34\\n23     192.168.43.38\\n24     192.168.43.34\\n25     192.168.43.38\\n26     192.168.43.34\\n27     192.168.43.38\\n28     192.168.43.34\\n29     192.168.43.38\\n           ...      \\n118    192.168.43.34\\n119    192.168.43.38\\n120    192.168.43.34\\n121    192.168.43.38\\n122    192.168.43.34\\n123    192.168.43.38\\n124    192.168.43.34\\n125    192.168.43.38\\n126    192.168.43.34\\n127    192.168.43.38\\n128    192.168.43.34\\n129    192.168.43.38\\n130    192.168.43.34\\n131    192.168.43.38\\n132    192.168.43.34\\n133    192.168.43.38\\n134    192.168.43.34\\n135    192.168.43.38\\n136    192.168.43.34\\n137    192.168.43.38\\n138    192.168.43.34\\n139    192.168.43.38\\n140    192.168.43.34\\n141    192.168.43.38\\n142    192.168.43.34\\n143    192.168.43.38\\n144    192.168.43.34\\n145    192.168.43.38\\n146    192.168.43.34\\n147    192.168.43.38\\nName: ip, Length: 148, dtype: object'],\n",
       "      dtype=object)"
      ]
     },
     "execution_count": 17,
     "metadata": {},
     "output_type": "execute_result"
    }
   ],
   "source": [
    "data[\"ip\"].unique()"
   ]
  },
  {
   "cell_type": "code",
   "execution_count": 14,
   "metadata": {},
   "outputs": [
    {
     "name": "stdout",
     "output_type": "stream",
     "text": [
      "<class 'pandas.core.frame.DataFrame'>\n",
      "RangeIndex: 148 entries, 0 to 147\n",
      "Data columns (total 4 columns):\n",
      "time        148 non-null int64\n",
      "range       148 non-null int64\n",
      "distance    148 non-null int64\n",
      "ip          148 non-null object\n",
      "dtypes: int64(3), object(1)\n",
      "memory usage: 4.7+ KB\n"
     ]
    }
   ],
   "source": [
    "data.info()"
   ]
  },
  {
   "cell_type": "code",
   "execution_count": 15,
   "metadata": {},
   "outputs": [],
   "source": [
    "data1 = data[\"34\" in data[\"ip\"]]"
   ]
  },
  {
   "cell_type": "code",
   "execution_count": 16,
   "metadata": {},
   "outputs": [
    {
     "data": {
      "text/html": [
       "<div>\n",
       "<style scoped>\n",
       "    .dataframe tbody tr th:only-of-type {\n",
       "        vertical-align: middle;\n",
       "    }\n",
       "\n",
       "    .dataframe tbody tr th {\n",
       "        vertical-align: top;\n",
       "    }\n",
       "\n",
       "    .dataframe thead th {\n",
       "        text-align: right;\n",
       "    }\n",
       "</style>\n",
       "<table border=\"1\" class=\"dataframe\">\n",
       "  <thead>\n",
       "    <tr style=\"text-align: right;\">\n",
       "      <th></th>\n",
       "      <th>time</th>\n",
       "      <th>range</th>\n",
       "      <th>distance</th>\n",
       "      <th>ip</th>\n",
       "    </tr>\n",
       "  </thead>\n",
       "  <tbody>\n",
       "  </tbody>\n",
       "</table>\n",
       "</div>"
      ],
      "text/plain": [
       "Empty DataFrame\n",
       "Columns: [time, range, distance, ip]\n",
       "Index: []"
      ]
     },
     "execution_count": 16,
     "metadata": {},
     "output_type": "execute_result"
    }
   ],
   "source": [
    "data1.head()"
   ]
  },
  {
   "cell_type": "code",
   "execution_count": 6,
   "metadata": {},
   "outputs": [
    {
     "data": {
      "text/plain": [
       "<matplotlib.axes._subplots.AxesSubplot at 0x1f80fff30f0>"
      ]
     },
     "execution_count": 6,
     "metadata": {},
     "output_type": "execute_result"
    },
    {
     "data": {
      "image/png": "[encoded data removed]",
      "text/plain": [
       "<Figure size 432x288 with 1 Axes>"
      ]
     },
     "metadata": {},
     "output_type": "display_data"
    }
   ],
   "source": [
    "%matplotlib inline\n",
    "import matplotlib.pyplot as plt\n",
    "data.plot.line(x=\"time\",y=\"distance\")"
   ]
  }
 ],
 "metadata": {
  "kernelspec": {
   "display_name": "Python 3",
   "language": "python",
   "name": "python3"
  },
  "language_info": {
   "codemirror_mode": {
    "name": "ipython",
    "version": 3
   },
   "file_extension": ".py",
   "mimetype": "text/x-python",
   "name": "python",
   "nbconvert_exporter": "python",
   "pygments_lexer": "ipython3",
   "version": "3.6.5"
  }
 },
 "nbformat": 4,
 "nbformat_minor": 2
}
